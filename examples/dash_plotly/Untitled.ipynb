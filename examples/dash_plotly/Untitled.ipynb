{
 "cells": [
  {
   "cell_type": "code",
   "execution_count": 4,
   "id": "08f73076-599a-4ef8-a5fe-c0435394355f",
   "metadata": {},
   "outputs": [
    {
     "name": "stdout",
     "output_type": "stream",
     "text": [
      "Dash app running on http://127.0.0.1:8051/\n"
     ]
    },
    {
     "data": {
      "application/javascript": [
       "window.open('http://127.0.0.1:8051/')"
      ],
      "text/plain": [
       "<IPython.core.display.Javascript object>"
      ]
     },
     "metadata": {},
     "output_type": "display_data"
    },
    {
     "name": "stderr",
     "output_type": "stream",
     "text": [
      "127.0.0.1 - - [22/May/2024 09:03:54] code 400, message Bad request syntax ('\\x16\\x03\\x03\\x01Ö\\x01\\x00\\x01Ò\\x03\\x03¢â\\x93\\x016#\\x05\\\\¢í\\x95é¹(,Ó*ÞFy')\n",
      "127.0.0.1 - - [22/May/2024 09:03:55] code 400, message Bad request version ('\\x00')\n",
      "127.0.0.1 - - [22/May/2024 09:03:55] code 400, message Bad request version ('\\x00')\n",
      "127.0.0.1 - - [22/May/2024 09:03:55] code 400, message Bad request syntax ('\\x16\\x03\\x00\\x01¨\\x01\\x00\\x01¤\\x03\\x00¥[\\x1b')\n",
      "127.0.0.1 - - [22/May/2024 09:03:55] code 400, message Bad HTTP/0.9 request type ('\\x80>\\x01\\x00\\x02\\x00\\x15\\x00\\x00\\x00')\n"
     ]
    }
   ],
   "source": [
    "# Only need to \"pip install dash plotly\"\n",
    "import json\n",
    "\n",
    "from dash import Dash, dcc, html, Input, Output\n",
    "import plotly.express as px\n",
    "import pandas as pd\n",
    "app = Dash(__name__)\n",
    "\n",
    "# Load JSON data\n",
    "with open('inputs/InsetChart.json', 'r') as file:\n",
    "    data = json.load(file)\n",
    "\n",
    "channel_data = {}\n",
    "channel_names = []\n",
    "\n",
    "# Extract data for each channel\n",
    "for channel, details in data['Channels'].items():\n",
    "    channel_data[channel] = details['Data']\n",
    "    channel_names.append(channel)\n",
    "\n",
    "# Convert the dictionary into a DataFrame\n",
    "df = pd.DataFrame(channel_data)\n",
    "\n",
    "# Reset index to get the timestep as a column\n",
    "df.reset_index(inplace=True)\n",
    "df.rename(columns={'index': 'Time Step'}, inplace=True)\n",
    "\n",
    "app.layout = html.Div([\n",
    "    html.H4('Inset Chart'),\n",
    "    html.P(\"Select Channel:\"),\n",
    "    dcc.Dropdown(\n",
    "        id=\"time-series-x-ticker\",\n",
    "        options=channel_names,\n",
    "        value=\"Infectious Vectors\",  # default to this channel\n",
    "        clearable=False,\n",
    "    ),\n",
    "    dcc.Graph(id=\"time-series-x-time-series-chart\")\n",
    "\n",
    "])\n",
    "\n",
    "\n",
    "@app.callback(\n",
    "    Output(\"time-series-x-time-series-chart\", \"figure\"),\n",
    "    Input(\"time-series-x-ticker\", \"value\"))\n",
    "def display_time_series(ticker):\n",
    "    fig = px.line(df, x='Time Step', y=ticker)\n",
    "    fig.update_xaxes(minor=dict(ticks=\"inside\", showgrid=True))\n",
    "    fig.update_xaxes(rangeslider_visible=True)\n",
    "    return fig\n",
    "\n",
    "\n",
    "if __name__ == \"__main__\":\n",
    "    #app.run_server(debug=True)\n",
    "    app.run(jupyter_mode=\"tab\", port=\"8051\")\n"
   ]
  },
  {
   "cell_type": "code",
   "execution_count": null,
   "id": "44307c50-c368-443b-84a9-89d7d34b32f4",
   "metadata": {},
   "outputs": [],
   "source": []
  }
 ],
 "metadata": {
  "kernelspec": {
   "display_name": "ismtools_38",
   "language": "python",
   "name": "ismtools_38"
  },
  "language_info": {
   "codemirror_mode": {
    "name": "ipython",
    "version": 3
   },
   "file_extension": ".py",
   "mimetype": "text/x-python",
   "name": "python",
   "nbconvert_exporter": "python",
   "pygments_lexer": "ipython3",
   "version": "3.8.10"
  }
 },
 "nbformat": 4,
 "nbformat_minor": 5
}
